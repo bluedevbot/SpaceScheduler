{
 "cells": [
  {
   "cell_type": "code",
   "execution_count": 19,
   "metadata": {},
   "outputs": [],
   "source": [
    "import requests\n",
    "import json"
   ]
  },
  {
   "cell_type": "code",
   "execution_count": 31,
   "metadata": {},
   "outputs": [
    {
     "name": "stdout",
     "output_type": "stream",
     "text": [
      "<Response [200]>\n"
     ]
    }
   ],
   "source": [
    "headers = {\"accept\": \"application/json, text/plain, */*\",\n",
    "    \"accept-language\": \"en-US,en;q=0.9\",\n",
    "    \"content-type\": \"application/json\",\n",
    "    \"sec-ch-ua\": \"\\\"Chromium\\\";v=\\\"106\\\", \\\"Google Chrome\\\";v=\\\"106\\\", \\\"Not;A=Brand\\\";v=\\\"99\\\"\",\n",
    "    \"sec-ch-ua-mobile\": \"?1\",\n",
    "    \"sec-ch-ua-platform\": \"\\\"Android\\\"\",\n",
    "    \"sec-fetch-dest\": \"empty\",\n",
    "    \"sec-fetch-mode\": \"cors\",\n",
    "    \"sec-fetch-site\": \"same-origin\",\n",
    "    \"cookie\": \"Blaze=Y0YiCZ@; BIGipServerp-java.25live-web.collegenet.com=185861898.36895.0000; _shibsession_32356c6976652d64756b6568747470733a2f2f636f72702e636f6c6c6567656e65742e636f6d2f73686962626f6c6574682d73702f=_ee2c0b4d6ede5f0aa6995a54fa51957f; WSSESSIONID=02A9D95CF83570D72BFA056C6DCC30CB\",\n",
    "    \"Referer\": \"https://25live.collegenet.com/pro/duke\",\n",
    "    \"Referrer-Policy\": \"strict-origin-when-cross-origin\"}\n",
    "\n",
    "url = \"https://25live.collegenet.com/25live/data/duke/run/search-criteria/space/locations.json?page_size=999&direct=T&can_assign=T&perm_start_dt=2022-10-26T12:00:00&perm_end_dt=2022-10-26T14:00:00&caller=pro-SearchCriteriaService.getLocations\"\n",
    "ret = requests.get(url,headers=headers)\n",
    "print(ret)"
   ]
  },
  {
   "cell_type": "code",
   "execution_count": 32,
   "metadata": {},
   "outputs": [
    {
     "data": {
      "text/plain": [
       "{'searchCriteria': {'cache_id': 2414,\n",
       "  'item': [{'itemId': 976,\n",
       "    'itemName': 'Perkins Link Group Study 1',\n",
       "    'itemDesc': 'Perkins Link Group Study 1 (054) - 7704054 -- Cap: 10',\n",
       "    'itemTypeId': 4},\n",
       "   {'itemId': 985,\n",
       "    'itemName': 'Perkins Link Group Study 10',\n",
       "    'itemDesc': 'Perkins Link Group Study 10 (078) - 7704078 -- Cap: 8',\n",
       "    'itemTypeId': 4},\n",
       "   {'itemId': 986,\n",
       "    'itemName': 'Perkins Link Group Study 11',\n",
       "    'itemDesc': 'Perkins Link Group Study 11 (058) - 7704058 -- Cap: 8',\n",
       "    'itemTypeId': 4},\n",
       "   {'itemId': 977,\n",
       "    'itemName': 'Perkins Link Group Study 2',\n",
       "    'itemDesc': 'Perkins Link Group Study 2 (053) - 7704053 -- Cap: 10',\n",
       "    'itemTypeId': 4},\n",
       "   {'itemId': 978,\n",
       "    'itemName': 'Perkins Link Group Study 3',\n",
       "    'itemDesc': 'Perkins Link Group Study 3 (052) - 7704052 -- Cap: 8',\n",
       "    'itemTypeId': 4},\n",
       "   {'itemId': 979,\n",
       "    'itemName': 'Perkins Link Group Study 4',\n",
       "    'itemDesc': 'Perkins Link Group Study 4 (051) - 7704051 -- Cap: 8',\n",
       "    'itemTypeId': 4},\n",
       "   {'itemId': 980,\n",
       "    'itemName': 'Perkins Link Group Study 5',\n",
       "    'itemDesc': 'Perkins Link Group Study 5 (084) - 7704084 -- Cap: 8',\n",
       "    'itemTypeId': 4},\n",
       "   {'itemId': 981,\n",
       "    'itemName': 'Perkins Link Group Study 6',\n",
       "    'itemDesc': 'Perkins Link Group Study 6 (082) - 7704082 -- Cap: 6',\n",
       "    'itemTypeId': 4},\n",
       "   {'itemId': 982,\n",
       "    'itemName': 'Perkins Link Group Study 7',\n",
       "    'itemDesc': 'Perkins Link Group Study 7 (081) - 7704081 -- Cap: 10',\n",
       "    'itemTypeId': 4},\n",
       "   {'itemId': 983,\n",
       "    'itemName': 'Perkins Link Group Study 8',\n",
       "    'itemDesc': 'Perkins Link Group Study 8 (076) - 7704076 -- Cap: 12',\n",
       "    'itemTypeId': 4},\n",
       "   {'itemId': 984,\n",
       "    'itemName': 'Perkins Link Group Study 9',\n",
       "    'itemDesc': 'Perkins Link Group Study 9 (077) - 7704077 -- Cap: 6',\n",
       "    'itemTypeId': 4}],\n",
       "  'engine': 'accl',\n",
       "  'page_count': 1}}"
      ]
     },
     "execution_count": 32,
     "metadata": {},
     "output_type": "execute_result"
    }
   ],
   "source": [
    "json.loads(ret.text[5:])\n"
   ]
  },
  {
   "cell_type": "code",
   "execution_count": null,
   "metadata": {},
   "outputs": [],
   "source": []
  }
 ],
 "metadata": {
  "kernelspec": {
   "display_name": "Python 3.8.9 64-bit",
   "language": "python",
   "name": "python3"
  },
  "language_info": {
   "codemirror_mode": {
    "name": "ipython",
    "version": 3
   },
   "file_extension": ".py",
   "mimetype": "text/x-python",
   "name": "python",
   "nbconvert_exporter": "python",
   "pygments_lexer": "ipython3",
   "version": "3.8.9"
  },
  "orig_nbformat": 4,
  "vscode": {
   "interpreter": {
    "hash": "31f2aee4e71d21fbe5cf8b01ff0e069b9275f58929596ceb00d14d90e3e16cd6"
   }
  }
 },
 "nbformat": 4,
 "nbformat_minor": 2
}
